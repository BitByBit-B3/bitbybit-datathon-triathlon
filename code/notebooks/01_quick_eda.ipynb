{
 "cells": [
  {
   "cell_type": "markdown",
   "metadata": {},
   "source": [
    "# Quick EDA for Tech-Triathlon 2025 Datathon\n",
    "\n",
    "This notebook provides a quick exploratory data analysis of the training datasets."
   ]
  },
  {
   "cell_type": "code",
   "execution_count": null,
   "metadata": {},
   "outputs": [],
   "source": [
    "# Import necessary libraries\n",
    "import sys\n",
    "\n",
    "import matplotlib.pyplot as plt\n",
    "import seaborn as sns\n",
    "\n",
    "# Add src to path for imports\n",
    "sys.path.append(\"../src\")\n",
    "\n",
    "from io_safe import read_csv_safe\n",
    "from paths import RAW_DATA_DIR\n",
    "\n",
    "# Set plot style\n",
    "plt.style.use(\"default\")\n",
    "sns.set_palette(\"husl\")\n"
   ]
  },
  {
   "cell_type": "code",
   "execution_count": null,
   "metadata": {},
   "outputs": [],
   "source": [
    "# Load datasets\n",
    "datasets = {}\n",
    "\n",
    "# Try to load each dataset\n",
    "data_files = {\n",
    "    \"bookings\": \"bookings_train.csv\",\n",
    "    \"tasks\": \"tasks.csv\",\n",
    "    \"staffing\": \"staffing_train.csv\",\n",
    "    \"task1_test\": \"task1_test_inputs.csv\",\n",
    "    \"task2_test\": \"task2_test_inputs.csv\",\n",
    "}\n",
    "\n",
    "for name, filename in data_files.items():\n",
    "    filepath = RAW_DATA_DIR / filename\n",
    "    try:\n",
    "        datasets[name] = read_csv_safe(filepath)\n",
    "    except (OSError, FileNotFoundError, ValueError):\n",
    "        datasets[name] = None"
   ]
  },
  {
   "cell_type": "code",
   "execution_count": null,
   "metadata": {},
   "outputs": [],
   "source": [
    "# Quick preview of each dataset\n",
    "for df in datasets.values():\n",
    "    if df is not None:\n",
    "\n",
    "        # Show basic info\n",
    "\n",
    "        # Show first few rows\n",
    "        display(df.head(3))\n",
    "\n",
    "        # Show missing values\n",
    "        missing = df.isnull().sum()\n",
    "        if missing.sum() > 0:\n",
    "            pass\n",
    "        else:\n",
    "            pass\n",
    "    else:\n",
    "        pass"
   ]
  }
 ],
 "metadata": {
  "kernelspec": {
   "display_name": "Python 3",
   "language": "python",
   "name": "python3"
  },
  "language_info": {
   "codemirror_mode": {
    "name": "ipython",
    "version": 3
   },
   "file_extension": ".py",
   "mimetype": "text/x-python",
   "name": "python",
   "nbconvert_exporter": "python",
   "pygments_lexer": "ipython3",
   "version": "3.11.0"
  }
 },
 "nbformat": 4,
 "nbformat_minor": 4
}