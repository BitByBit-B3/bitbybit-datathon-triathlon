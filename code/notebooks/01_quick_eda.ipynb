{
  "cells": [
    {
      "cell_type": "markdown",
      "metadata": {},
      "source": [
        "# Quick EDA for Tech-Triathlon 2025 Datathon\n",
        "\n",
        "This notebook provides a quick exploratory data analysis of the training datasets."
      ]
    },
    {
      "cell_type": "code",
      "execution_count": null,
      "metadata": {},
      "outputs": [],
      "source": [
        "# Import necessary libraries\n",
        "import pandas as pd\n",
        "import numpy as np\n",
        "import matplotlib.pyplot as plt\n",
        "import seaborn as sns\n",
        "from pathlib import Path\n",
        "import sys\n",
        "\n",
        "# Add src to path for imports\n",
        "sys.path.append('../src')\n",
        "\n",
        "from io_safe import read_csv_safe\n",
        "from paths import RAW_DATA_DIR\n",
        "\n",
        "# Set plot style\n",
        "plt.style.use('default')\n",
        "sns.set_palette(\"husl\")\n",
        "\n",
        "print(\"Libraries imported successfully!\")\n",
        "print(f\"Data directory: {RAW_DATA_DIR}\")"
      ]
    },
    {
      "cell_type": "code",
      "execution_count": null,
      "metadata": {},
      "outputs": [],
      "source": [
        "# Load datasets\n",
        "datasets = {}\n",
        "\n",
        "# Try to load each dataset\n",
        "data_files = {\n",
        "    'bookings': 'bookings_train.csv',\n",
        "    'tasks': 'tasks.csv',\n",
        "    'staffing': 'staffing_train.csv',\n",
        "    'task1_test': 'task1_test_inputs.csv',\n",
        "    'task2_test': 'task2_test_inputs.csv'\n",
        "}\n",
        "\n",
        "for name, filename in data_files.items():\n",
        "    filepath = RAW_DATA_DIR / filename\n",
        "    try:\n",
        "        datasets[name] = read_csv_safe(filepath)\n",
        "        print(f\"✓ Loaded {name}: {len(datasets[name])} rows, {len(datasets[name].columns)} columns\")\n",
        "    except Exception as e:\n",
        "        print(f\"✗ Could not load {name}: {e}\")\n",
        "        datasets[name] = None\n",
        "\n",
        "print(f\"\\nLoaded {sum(1 for v in datasets.values() if v is not None)}/{len(datasets)} datasets\")"
      ]
    },
    {
      "cell_type": "code",
      "execution_count": null,
      "metadata": {},
      "outputs": [],
      "source": [
        "# Quick preview of each dataset\n",
        "for name, df in datasets.items():\n",
        "    if df is not None:\n",
        "        print(f\"\\n{'='*50}\")\n",
        "        print(f\"Dataset: {name.upper()}\")\n",
        "        print(f\"Shape: {df.shape}\")\n",
        "        print(f\"Columns: {list(df.columns)}\")\n",
        "        \n",
        "        # Show basic info\n",
        "        print(\"\\nData types:\")\n",
        "        print(df.dtypes)\n",
        "        \n",
        "        # Show first few rows\n",
        "        print(\"\\nFirst 3 rows:\")\n",
        "        display(df.head(3))\n",
        "        \n",
        "        # Show missing values\n",
        "        missing = df.isnull().sum()\n",
        "        if missing.sum() > 0:\n",
        "            print(\"\\nMissing values:\")\n",
        "            print(missing[missing > 0])\n",
        "        else:\n",
        "            print(\"\\n✓ No missing values\")\n",
        "    else:\n",
        "        print(f\"\\n{name.upper()}: Not available\")"
      ]
    }
  ],
  "metadata": {
    "kernelspec": {
      "display_name": "Python 3",
      "language": "python",
      "name": "python3"
    },
    "language_info": {
      "codemirror_mode": {
        "name": "ipython",
        "version": 3
      },
      "file_extension": ".py",
      "mimetype": "text/x-python",
      "name": "python",
      "nbconvert_exporter": "python",
      "pygments_lexer": "ipython3",
      "version": "3.11.0"
    }
  },
  "nbformat": 4,
  "nbformat_minor": 4
}